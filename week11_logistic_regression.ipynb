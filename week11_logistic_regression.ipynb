{
  "nbformat": 4,
  "nbformat_minor": 0,
  "metadata": {
    "colab": {
      "name": "week13_logistic_regression.ipynb",
      "provenance": [],
      "collapsed_sections": [],
      "authorship_tag": "ABX9TyMYhk5CMQGX8KQYdxTegpdh"
    },
    "kernelspec": {
      "name": "python3",
      "display_name": "Python 3"
    },
    "language_info": {
      "name": "python"
    }
  },
  "cells": [
    {
      "cell_type": "code",
      "metadata": {
        "id": "7_2cTYEhpERR"
      },
      "source": [
        "#import tensorflow as tf\n",
        "import tensorflow.compat.v1 as tf\n",
        "tf.disable_v2_behavior()"
      ],
      "execution_count": 20,
      "outputs": []
    },
    {
      "cell_type": "code",
      "metadata": {
        "id": "Jm9IUvvxpKN6"
      },
      "source": [
        "import numpy as np\n",
        "import matplotlib.pyplot as plt"
      ],
      "execution_count": 21,
      "outputs": []
    },
    {
      "cell_type": "code",
      "metadata": {
        "id": "y_HllBlqpLD4"
      },
      "source": [
        "x_data = [[1,2], [2,3], [3,1], [4,3], [5,3], [6,2]]\n",
        "y_data = [[0],[0],[0],[1],[1],[1]]"
      ],
      "execution_count": 22,
      "outputs": []
    },
    {
      "cell_type": "code",
      "metadata": {
        "id": "a1hLG6F3pL9A"
      },
      "source": [
        "X = tf.placeholder(tf.float32, shape=[None, 2])\n",
        "Y = tf.placeholder(tf.float32, shape=[None, 1])\n",
        "# input = 2, output = 1\n",
        "W = tf.Variable(tf.random_normal([2,1]), name='weight')\n",
        "# output = 1\n",
        "b = tf.Variable(tf.random_normal([1]), name='bias')"
      ],
      "execution_count": 23,
      "outputs": []
    },
    {
      "cell_type": "markdown",
      "metadata": {
        "id": "qWbJvtzspN7b"
      },
      "source": [
        "### Hypothesis"
      ]
    },
    {
      "cell_type": "code",
      "metadata": {
        "id": "N41-69lzpNB4"
      },
      "source": [
        "# sigmoid function 은 우리의 가설 H(X) = 1/(1+e^(-w.transpose * X))\n",
        "hypothesis = tf.sigmoid(tf.matmul(X, W) + b)"
      ],
      "execution_count": 24,
      "outputs": []
    },
    {
      "cell_type": "code",
      "metadata": {
        "id": "iHpJMEWtpW-Q"
      },
      "source": [
        "# 새롭게 정의된 오차함수\n",
        "cost = -tf.reduce_mean(Y * tf.log(hypothesis) + (1 - Y) * (tf.log(1 - hypothesis)))\n",
        "# 학습 그래프 최적화 알고리즘 경사하강법\n",
        "train = tf.train.GradientDescentOptimizer(learning_rate=0.01).minimize(cost)\n",
        "# 예측값 H(X) > 0.5 is true, else false\n",
        "predicted = tf.cast(hypothesis > 0.5, dtype=tf.float32)\n",
        "# 0이나 1의 값을 트레이닝 횟수만큼 평균치 계산\n",
        "accuracy = tf.reduce_mean(tf.cast(tf.equal(predicted, Y), dtype=tf.float32))"
      ],
      "execution_count": 25,
      "outputs": []
    },
    {
      "cell_type": "markdown",
      "metadata": {
        "id": "YCwy93Cvpal9"
      },
      "source": [
        "### Train"
      ]
    },
    {
      "cell_type": "code",
      "metadata": {
        "id": "0AnY76b-pYxw",
        "colab": {
          "base_uri": "https://localhost:8080/"
        },
        "outputId": "47f007d8-3390-4135-f886-bf8694824187"
      },
      "source": [
        "sess = tf.InteractiveSession()"
      ],
      "execution_count": 26,
      "outputs": [
        {
          "output_type": "stream",
          "name": "stderr",
          "text": [
            "/usr/local/lib/python3.7/dist-packages/tensorflow/python/client/session.py:1771: UserWarning: An interactive session is already active. This can cause out-of-memory errors in some cases. You must explicitly call `InteractiveSession.close()` to release resources held by the other session(s).\n",
            "  warnings.warn('An interactive session is already active. This can '\n"
          ]
        }
      ]
    },
    {
      "cell_type": "code",
      "metadata": {
        "id": "9GViQMvcpcvi"
      },
      "source": [
        "sess.run(tf.global_variables_initializer())"
      ],
      "execution_count": 27,
      "outputs": []
    },
    {
      "cell_type": "code",
      "metadata": {
        "id": "TLc140SGql30"
      },
      "source": [
        "vcost = []"
      ],
      "execution_count": 28,
      "outputs": []
    },
    {
      "cell_type": "code",
      "metadata": {
        "colab": {
          "base_uri": "https://localhost:8080/"
        },
        "id": "vLlRDOtdpdwg",
        "outputId": "0a4a3b35-fcb5-4485-bb74-eb1f809cba38"
      },
      "source": [
        "for step in range(10001):\n",
        "  cost_val, _ = sess.run([cost, train], feed_dict={X:x_data, Y:y_data})\n",
        "  vcost.append(cost_val)\n",
        "  if step % 1000 == 0:\n",
        "    print(step, '\\t', cost_val)"
      ],
      "execution_count": 29,
      "outputs": [
        {
          "output_type": "stream",
          "name": "stdout",
          "text": [
            "0 \t 1.1213442\n",
            "1000 \t 0.5379473\n",
            "2000 \t 0.44893298\n",
            "3000 \t 0.3788596\n",
            "4000 \t 0.32425037\n",
            "5000 \t 0.28159395\n",
            "6000 \t 0.24793206\n",
            "7000 \t 0.22099245\n",
            "8000 \t 0.19910307\n",
            "9000 \t 0.18105052\n",
            "10000 \t 0.16595364\n"
          ]
        }
      ]
    },
    {
      "cell_type": "code",
      "metadata": {
        "colab": {
          "base_uri": "https://localhost:8080/",
          "height": 297
        },
        "id": "BR13OJOwqbgu",
        "outputId": "1d16279e-9a3b-43ca-e559-4a6ba3af20d8"
      },
      "source": [
        "plt.plot(vcost)\n",
        "plt.xlabel('epoch')\n",
        "plt.ylabel('cost')"
      ],
      "execution_count": 30,
      "outputs": [
        {
          "output_type": "execute_result",
          "data": {
            "text/plain": [
              "Text(0, 0.5, 'cost')"
            ]
          },
          "metadata": {},
          "execution_count": 30
        },
        {
          "output_type": "display_data",
          "data": {
            "image/png": "[encoded data removed]",
            "text/plain": [
              "<Figure size 432x288 with 1 Axes>"
            ]
          },
          "metadata": {
            "needs_background": "light"
          }
        }
      ]
    },
    {
      "cell_type": "code",
      "metadata": {
        "colab": {
          "base_uri": "https://localhost:8080/"
        },
        "id": "nsSSTIxadodr",
        "outputId": "698f1056-001e-4c34-9a87-684a911b6c41"
      },
      "source": [
        "h, c, a = sess.run([hypothesis, predicted, accuracy], feed_dict={X:x_data, Y:y_data})\n",
        "print(h)\n",
        "print(c)\n",
        "print(a)"
      ],
      "execution_count": 31,
      "outputs": [
        {
          "output_type": "stream",
          "name": "stdout",
          "text": [
            "[[0.03795382]\n",
            " [0.167602  ]\n",
            " [0.3377151 ]\n",
            " [0.7667519 ]\n",
            " [0.92998445]\n",
            " [0.97700596]]\n",
            "[[0.]\n",
            " [0.]\n",
            " [0.]\n",
            " [1.]\n",
            " [1.]\n",
            " [1.]]\n",
            "1.0\n"
          ]
        }
      ]
    },
    {
      "cell_type": "markdown",
      "metadata": {
        "id": "gc0N2XJSphgD"
      },
      "source": [
        "### Test"
      ]
    },
    {
      "cell_type": "code",
      "metadata": {
        "colab": {
          "base_uri": "https://localhost:8080/"
        },
        "id": "_3Yw0COGpeuJ",
        "outputId": "5ec45648-daf1-4d5f-f68f-2693f662ebd1"
      },
      "source": [
        "sess.run(hypothesis,feed_dict={X:[[5,3]]})"
      ],
      "execution_count": 32,
      "outputs": [
        {
          "output_type": "execute_result",
          "data": {
            "text/plain": [
              "array([[0.92998445]], dtype=float32)"
            ]
          },
          "metadata": {},
          "execution_count": 32
        }
      ]
    }
  ]
}