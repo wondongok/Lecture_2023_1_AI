{
  "nbformat": 4,
  "nbformat_minor": 0,
  "metadata": {
    "colab": {
      "name": "week11_Linear_regression_tf.ipynb",
      "provenance": [],
      "collapsed_sections": [],
      "authorship_tag": "ABX9TyOX3PfTl3KhHLZu/rf2gqVQ"
    },
    "kernelspec": {
      "name": "python3",
      "display_name": "Python 3"
    },
    "language_info": {
      "name": "python"
    }
  },
  "cells": [
    {
      "cell_type": "markdown",
      "metadata": {
        "id": "REj-RNlbJ84s"
      },
      "source": [
        "### Liner Regression"
      ]
    },
    {
      "cell_type": "code",
      "metadata": {
        "colab": {
          "base_uri": "https://localhost:8080/"
        },
        "id": "cUErEz4gJgwa",
        "outputId": "106dc147-9c09-4404-e861-81099fb354d2"
      },
      "source": [
        "import tensorflow.compat.v1 as tf\n",
        "tf.disable_v2_behavior()\n",
        "import numpy as np\n",
        "import matplotlib.pyplot as plt"
      ],
      "execution_count": 1,
      "outputs": [
        {
          "output_type": "stream",
          "text": [
            "WARNING:tensorflow:From /usr/local/lib/python3.7/dist-packages/tensorflow/python/compat/v2_compat.py:96: disable_resource_variables (from tensorflow.python.ops.variable_scope) is deprecated and will be removed in a future version.\n",
            "Instructions for updating:\n",
            "non-resource variables are not supported in the long term\n"
          ],
          "name": "stdout"
        }
      ]
    },
    {
      "cell_type": "code",
      "metadata": {
        "id": "3TyHB3xbJ0DK"
      },
      "source": [
        "x_train = [1, 2, 3]"
      ],
      "execution_count": 2,
      "outputs": []
    },
    {
      "cell_type": "code",
      "metadata": {
        "id": "_ZmdIu2vJ18R"
      },
      "source": [
        "y_train = [2+0.1, 4-0.2, 6+0.15]"
      ],
      "execution_count": 3,
      "outputs": []
    },
    {
      "cell_type": "code",
      "metadata": {
        "colab": {
          "base_uri": "https://localhost:8080/",
          "height": 297
        },
        "id": "JbE4vLEHJ3ap",
        "outputId": "78c37815-6bed-46d6-9e22-2aa8d436ad14"
      },
      "source": [
        "plt.plot(x_train, y_train,'.-')\n",
        "plt.xlabel('X')\n",
        "plt.ylabel('Y')"
      ],
      "execution_count": 4,
      "outputs": [
        {
          "output_type": "execute_result",
          "data": {
            "text/plain": [
              "Text(0, 0.5, 'Y')"
            ]
          },
          "metadata": {
            "tags": []
          },
          "execution_count": 4
        },
        {
          "output_type": "display_data",
          "data": {
            "image/png": "[encoded data removed]",
            "text/plain": [
              "<Figure size 432x288 with 1 Axes>"
            ]
          },
          "metadata": {
            "tags": [],
            "needs_background": "light"
          }
        }
      ]
    },
    {
      "cell_type": "markdown",
      "metadata": {
        "id": "SU_d5RUnKAVi"
      },
      "source": [
        "### Initialization (초기화)"
      ]
    },
    {
      "cell_type": "code",
      "metadata": {
        "id": "lm_GQ8QIJ43x"
      },
      "source": [
        "# w, b 초기값 설정 - 자유롭게 변경해볼 것\n",
        "w0 = 7;\n",
        "b0 = -10;\n",
        "W = tf.Variable(w0*tf.ones([1]), name='weight')\n",
        "b = tf.Variable(b0*tf.ones([1]), name='bias')"
      ],
      "execution_count": 5,
      "outputs": []
    },
    {
      "cell_type": "markdown",
      "metadata": {
        "id": "AKMjB1TTKPq7"
      },
      "source": [
        "### Hypothesis: xW + b"
      ]
    },
    {
      "cell_type": "code",
      "metadata": {
        "id": "ipXWCy2HKLSB"
      },
      "source": [
        "hypothesis = x_train * W + b"
      ],
      "execution_count": 6,
      "outputs": []
    },
    {
      "cell_type": "markdown",
      "metadata": {
        "id": "RmqIJQ_0KUiG"
      },
      "source": [
        "### Cost Function 정의"
      ]
    },
    {
      "cell_type": "code",
      "metadata": {
        "id": "UD0aBU8XKTQx"
      },
      "source": [
        "cost = tf.reduce_mean(tf.square(hypothesis - y_train))"
      ],
      "execution_count": 7,
      "outputs": []
    },
    {
      "cell_type": "markdown",
      "metadata": {
        "id": "X1ShOHu1KYp_"
      },
      "source": [
        "### Optimizer 설정"
      ]
    },
    {
      "cell_type": "code",
      "metadata": {
        "id": "DYwfpZ-yKWoR"
      },
      "source": [
        "optimizer = tf.train.GradientDescentOptimizer(learning_rate=0.01) # learning_rate 값을 바꿔가며 테스트 해볼 것\n",
        "train = optimizer.minimize(cost)"
      ],
      "execution_count": 8,
      "outputs": []
    },
    {
      "cell_type": "markdown",
      "metadata": {
        "id": "_jjGaeoKKs2y"
      },
      "source": [
        "### Launch the graph in a session"
      ]
    },
    {
      "cell_type": "code",
      "metadata": {
        "id": "QZQeLvHQKc9C"
      },
      "source": [
        "sess = tf.Session()"
      ],
      "execution_count": 9,
      "outputs": []
    },
    {
      "cell_type": "markdown",
      "metadata": {
        "id": "-erKqtg_KxU-"
      },
      "source": [
        "### Initilizes global variables in the graph"
      ]
    },
    {
      "cell_type": "code",
      "metadata": {
        "id": "-WnV_0ZNKw4p"
      },
      "source": [
        "sess.run(tf.global_variables_initializer())"
      ],
      "execution_count": 10,
      "outputs": []
    },
    {
      "cell_type": "markdown",
      "metadata": {
        "id": "ApMsj-nOK4aZ"
      },
      "source": [
        "### Run!"
      ]
    },
    {
      "cell_type": "code",
      "metadata": {
        "id": "hRUmrjD6K5SA"
      },
      "source": [
        "# epoch: 반복횟수\n",
        "nb_epoch = 2000"
      ],
      "execution_count": 11,
      "outputs": []
    },
    {
      "cell_type": "code",
      "metadata": {
        "id": "2-C9-zJCK7AB"
      },
      "source": [
        "# w, b, cost 값의 변화를 저장할 변수 정의\n",
        "vw = []\n",
        "vb = []\n",
        "vcost = []"
      ],
      "execution_count": 12,
      "outputs": []
    },
    {
      "cell_type": "code",
      "metadata": {
        "colab": {
          "base_uri": "https://localhost:8080/"
        },
        "id": "-W5cbxYMK-yR",
        "outputId": "4a759d2e-11c3-4c4b-b71a-903636d8154f"
      },
      "source": [
        "for step in range(nb_epoch+1):\n",
        "  sess.run(train)\n",
        "  w1 = sess.run(W)[0] # slope\n",
        "  b1 = sess.run(b)[0] # bias\n",
        "  cost1 = sess.run(cost)\n",
        "  vw.append(w1)\n",
        "  vb.append(b1)\n",
        "  vcost.append(cost1)\n",
        "  if step % 100 == 0: # 100번마다 결과 출력해보기 (monitoring 목적)\n",
        "    print(step, '--', cost1, '--', w1, '--', b1)"
      ],
      "execution_count": 13,
      "outputs": [
        {
          "output_type": "stream",
          "text": [
            "0 -- 16.112978 -- 6.9343333 -- -9.999666\n",
            "100 -- 9.173922 -- 5.5383186 -- -8.019924\n",
            "200 -- 5.6778927 -- 4.7867856 -- -6.311521\n",
            "300 -- 3.517561 -- 4.1960154 -- -4.968562\n",
            "400 -- 2.182608 -- 3.7316163 -- -3.9128737\n",
            "500 -- 1.357687 -- 3.3665562 -- -3.0830057\n",
            "600 -- 0.84793586 -- 3.0795853 -- -2.4306536\n",
            "700 -- 0.5329406 -- 2.854 -- -1.9178456\n",
            "800 -- 0.33829245 -- 2.6766696 -- -1.5147312\n",
            "900 -- 0.21801193 -- 2.5372713 -- -1.197847\n",
            "1000 -- 0.14368595 -- 2.4276922 -- -0.94874716\n",
            "1100 -- 0.09775708 -- 2.341553 -- -0.75293213\n",
            "1200 -- 0.06937576 -- 2.2738397 -- -0.5990038\n",
            "1300 -- 0.05183783 -- 2.2206104 -- -0.4780021\n",
            "1400 -- 0.041000407 -- 2.1787674 -- -0.3828831\n",
            "1500 -- 0.034303572 -- 2.145875 -- -0.30811134\n",
            "1600 -- 0.03016533 -- 2.120019 -- -0.24933368\n",
            "1700 -- 0.027608156 -- 2.0996935 -- -0.20312952\n",
            "1800 -- 0.026027998 -- 2.0837162 -- -0.16680856\n",
            "1900 -- 0.025051534 -- 2.071156 -- -0.13825722\n",
            "2000 -- 0.024448132 -- 2.0612826 -- -0.11581262\n"
          ],
          "name": "stdout"
        }
      ]
    },
    {
      "cell_type": "code",
      "metadata": {
        "colab": {
          "base_uri": "https://localhost:8080/"
        },
        "id": "fUG8r25bLQOZ",
        "outputId": "c0fe517e-9383-4372-d768-ef79be71984f"
      },
      "source": [
        "w1 = sess.run(W)[0] # slope\n",
        "b1 = sess.run(b)[0] # bias\n",
        "str1 = 'y={:.3}x + {:.3}'.format(w1, b1)\n",
        "print(w1, b1)\n",
        "print(str1)"
      ],
      "execution_count": 14,
      "outputs": [
        {
          "output_type": "stream",
          "text": [
            "2.0612826 -0.11581262\n",
            "y=2.06x + -0.116\n"
          ],
          "name": "stdout"
        }
      ]
    },
    {
      "cell_type": "code",
      "metadata": {
        "colab": {
          "base_uri": "https://localhost:8080/",
          "height": 313
        },
        "id": "d4twNdygLYHh",
        "outputId": "ea385213-5d86-4626-ee13-d27d5d3d49e0"
      },
      "source": [
        "# regression 결과 그려보기\n",
        "plt.figure(1)\n",
        "plt.plot(x_train, y_train,'o')\n",
        "x1 = np.min(x_train)-1, np.max(x_train)+1\n",
        "y1 = np.dot(w1,x1) + b1\n",
        "plt.plot(x1, y1)\n",
        "plt.grid()\n",
        "plt.xlabel('x')\n",
        "plt.ylabel('y')\n",
        "plt.title(str1)"
      ],
      "execution_count": 15,
      "outputs": [
        {
          "output_type": "execute_result",
          "data": {
            "text/plain": [
              "Text(0.5, 1.0, 'y=2.06x + -0.116')"
            ]
          },
          "metadata": {
            "tags": []
          },
          "execution_count": 15
        },
        {
          "output_type": "display_data",
          "data": {
            "image/png": "[encoded data removed]",
            "text/plain": [
              "<Figure size 432x288 with 1 Axes>"
            ]
          },
          "metadata": {
            "tags": [],
            "needs_background": "light"
          }
        }
      ]
    },
    {
      "cell_type": "code",
      "metadata": {
        "colab": {
          "base_uri": "https://localhost:8080/",
          "height": 297
        },
        "id": "iMozd4CfLi2Z",
        "outputId": "244f7ddb-14f9-452f-fd7d-11f2ac5fd729"
      },
      "source": [
        "# 학습하는 동안 b의 변화 보기\n",
        "plt.plot(vb)\n",
        "plt.grid()\n",
        "plt.xlabel('epoch')\n",
        "plt.ylabel('b')"
      ],
      "execution_count": 16,
      "outputs": [
        {
          "output_type": "execute_result",
          "data": {
            "text/plain": [
              "Text(0, 0.5, 'b')"
            ]
          },
          "metadata": {
            "tags": []
          },
          "execution_count": 16
        },
        {
          "output_type": "display_data",
          "data": {
            "image/png": "[encoded data removed]",
            "text/plain": [
              "<Figure size 432x288 with 1 Axes>"
            ]
          },
          "metadata": {
            "tags": [],
            "needs_background": "light"
          }
        }
      ]
    },
    {
      "cell_type": "code",
      "metadata": {
        "colab": {
          "base_uri": "https://localhost:8080/",
          "height": 297
        },
        "id": "wvTYx_CSLlsR",
        "outputId": "1ea62fe6-6767-4845-b65d-411eb949bc80"
      },
      "source": [
        "# 학습하는 동안 w의 변화 보기\n",
        "plt.plot(vw)\n",
        "plt.grid()\n",
        "plt.xlabel('epoch')\n",
        "plt.ylabel('w')"
      ],
      "execution_count": 17,
      "outputs": [
        {
          "output_type": "execute_result",
          "data": {
            "text/plain": [
              "Text(0, 0.5, 'w')"
            ]
          },
          "metadata": {
            "tags": []
          },
          "execution_count": 17
        },
        {
          "output_type": "display_data",
          "data": {
            "image/png": "[encoded data removed]",
            "text/plain": [
              "<Figure size 432x288 with 1 Axes>"
            ]
          },
          "metadata": {
            "tags": [],
            "needs_background": "light"
          }
        }
      ]
    },
    {
      "cell_type": "code",
      "metadata": {
        "colab": {
          "base_uri": "https://localhost:8080/",
          "height": 297
        },
        "id": "GiexvoeAL185",
        "outputId": "09deb16d-d8e4-4600-8a97-a62add504f60"
      },
      "source": [
        "# 학습하는 동안 cost의 변화 보기\n",
        "plt.plot(vcost)\n",
        "plt.grid()\n",
        "plt.xlabel('epoch')\n",
        "plt.ylabel('cost')"
      ],
      "execution_count": 18,
      "outputs": [
        {
          "output_type": "execute_result",
          "data": {
            "text/plain": [
              "Text(0, 0.5, 'cost')"
            ]
          },
          "metadata": {
            "tags": []
          },
          "execution_count": 18
        },
        {
          "output_type": "display_data",
          "data": {
            "image/png": "[encoded data removed]",
            "text/plain": [
              "<Figure size 432x288 with 1 Axes>"
            ]
          },
          "metadata": {
            "tags": [],
            "needs_background": "light"
          }
        }
      ]
    }
  ]
}